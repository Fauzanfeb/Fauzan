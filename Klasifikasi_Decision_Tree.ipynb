{
  "nbformat": 4,
  "nbformat_minor": 0,
  "metadata": {
    "colab": {
      "provenance": [],
      "authorship_tag": "ABX9TyPy18NBerN9F/nm906ySiTo",
      "include_colab_link": true
    },
    "kernelspec": {
      "name": "python3",
      "display_name": "Python 3"
    },
    "language_info": {
      "name": "python"
    }
  },
  "cells": [
    {
      "cell_type": "markdown",
      "metadata": {
        "id": "view-in-github",
        "colab_type": "text"
      },
      "source": [
        "<a href=\"https://colab.research.google.com/github/Fauzanfeb/Fauzan/blob/main/Klasifikasi_Decision_Tree.ipynb\" target=\"_parent\"><img src=\"https://colab.research.google.com/assets/colab-badge.svg\" alt=\"Open In Colab\"/></a>"
      ]
    },
    {
      "cell_type": "code",
      "execution_count": 1,
      "metadata": {
        "id": "EKReWMbY4zOJ"
      },
      "outputs": [],
      "source": [
        "import numpy as np\n",
        "import pandas as pd\n",
        "from sklearn import tree"
      ]
    },
    {
      "cell_type": "code",
      "source": [
        "irisDataset = pd.read_csv('Data7.csv', delimiter = ';', \n",
        "                          header = 0)\n",
        "irisDataset['Species'] = pd.factorize(irisDataset.Species)[0]\n",
        "irisDataset = irisDataset.drop(labels = \"Id\", axis = 1)\n",
        "\n",
        "# irisDataset = irisDataset.as_matrix()\n",
        "irisDataset = irisDataset.to_numpy()"
      ],
      "metadata": {
        "id": "MaCL26Qw674x"
      },
      "execution_count": 3,
      "outputs": []
    },
    {
      "cell_type": "code",
      "source": [
        "dataTraining = np.concatenate((irisDataset[0:40, :], irisDataset[50:90, :]), \n",
        "                              axis = 0)\n",
        "dataTesting = np.concatenate((irisDataset[40:50, :], irisDataset[90:100, :]), \n",
        "                             axis = 0)\n",
        "\n",
        "inputTraining = dataTraining[:, 0:4]\n",
        "inputTesting = dataTesting[:, 0:4]\n",
        "labelTraining = dataTraining[:, 4]\n",
        "labelTesting = dataTesting[:, 4]"
      ],
      "metadata": {
        "id": "ktpdCJs17D6Z"
      },
      "execution_count": 4,
      "outputs": []
    },
    {
      "cell_type": "code",
      "source": [
        "model = tree.DecisionTreeClassifier()\n",
        "model = model.fit(inputTraining, labelTraining)\n",
        "\n",
        "hasilPrediksi = model.predict(inputTesting)\n",
        "print(\"Label sebenarnya => \", labelTesting)\n",
        "print(\"Hasil prediksi   => \", hasilPrediksi)\n",
        "\n",
        "prediksiBenar = (hasilPrediksi == labelTesting).sum()\n",
        "prediksiSalah = (hasilPrediksi != labelTesting).sum()\n",
        "\n",
        "print(\"Prediksi Benar   => \", prediksiBenar, \"data.\")\n",
        "print(\"Prediksi Salah   => \", prediksiSalah, \"data.\")\n",
        "print(\"Akurasi          => \", prediksiBenar / (prediksiBenar + prediksiSalah) * 100, \"%\")\n",
        "     "
      ],
      "metadata": {
        "colab": {
          "base_uri": "https://localhost:8080/"
        },
        "id": "ls0t4n5I7IE7",
        "outputId": "5b4bd69e-2997-4788-e2cb-a3d4cab61abd"
      },
      "execution_count": 5,
      "outputs": [
        {
          "output_type": "stream",
          "name": "stdout",
          "text": [
            "Label sebenarnya =>  [0. 0. 0. 0. 0. 0. 0. 0. 0. 0. 1. 1. 1. 1. 1. 1. 1. 1. 1. 1.]\n",
            "Hasil prediksi   =>  [0. 0. 0. 0. 0. 0. 0. 0. 0. 0. 1. 1. 1. 1. 1. 1. 1. 1. 1. 1.]\n",
            "Prediksi Benar   =>  20 data.\n",
            "Prediksi Salah   =>  0 data.\n",
            "Akurasi          =>  100.0 %\n"
          ]
        }
      ]
    }
  ]
}
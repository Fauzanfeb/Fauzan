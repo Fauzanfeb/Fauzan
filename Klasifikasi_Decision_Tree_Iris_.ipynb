{
  "nbformat": 4,
  "nbformat_minor": 0,
  "metadata": {
    "colab": {
      "provenance": [],
      "authorship_tag": "ABX9TyMkn5fTOix6RM0ViwJ4b4Uh",
      "include_colab_link": true
    },
    "kernelspec": {
      "name": "python3",
      "display_name": "Python 3"
    },
    "language_info": {
      "name": "python"
    }
  },
  "cells": [
    {
      "cell_type": "markdown",
      "metadata": {
        "id": "view-in-github",
        "colab_type": "text"
      },
      "source": [
        "<a href=\"https://colab.research.google.com/github/Fauzanfeb/Fauzan/blob/main/Klasifikasi_Decision_Tree_Iris_.ipynb\" target=\"_parent\"><img src=\"https://colab.research.google.com/assets/colab-badge.svg\" alt=\"Open In Colab\"/></a>"
      ]
    },
    {
      "cell_type": "code",
      "execution_count": 1,
      "metadata": {
        "id": "pT_eVDKE9d3F"
      },
      "outputs": [],
      "source": [
        "# Import Library Scikit Learn untuk Decision Tree, Dataset & Matplotlib\n",
        "from sklearn.tree import DecisionTreeClassifier\n",
        "from sklearn import datasets\n",
        "import matplotlib.pyplot as plt"
      ]
    },
    {
      "cell_type": "code",
      "source": [
        "# Load Dataset Iris dari Library Scikit Learn\n",
        "iris = datasets.load_iris()\n",
        "features = iris['data']\n",
        "target = iris['target']\n",
        "\n",
        "# print(features)\n",
        "# len(features)"
      ],
      "metadata": {
        "id": "HoT2SMx_-_R8"
      },
      "execution_count": 2,
      "outputs": []
    },
    {
      "cell_type": "code",
      "source": [
        "# Membuat Objek Model Decision Tree\n",
        "decisiontree = DecisionTreeClassifier(random_state = 0, max_depth = None, \n",
        "                                      min_samples_leaf = 1, min_samples_split = 2, \n",
        "                                      min_weight_fraction_leaf = 0, max_leaf_nodes = None, \n",
        "                                      min_impurity_decrease = 0)"
      ],
      "metadata": {
        "id": "Pzz2IwQ1_Ehw"
      },
      "execution_count": 3,
      "outputs": []
    },
    {
      "cell_type": "code",
      "source": [
        "# Mentraining Model Decision Tree\n",
        "model = decisiontree.fit(features, target)"
      ],
      "metadata": {
        "id": "FkKONo6d_F6t"
      },
      "execution_count": 4,
      "outputs": []
    },
    {
      "cell_type": "code",
      "source": [
        "# Mengambil sampel observasi & membuat prediksi\n",
        "# Sampel berupa data dimensi kelopak\n",
        "# Fungsi predict() => memeriksa kelas yang dimilikinya\n",
        "# Fungsi predict_proba() => memeriksa probabilitas kelas dari prediksi tersebut\n",
        "observation = [[5, 4, 3, 2]]\n",
        "model.predict(observation)\n",
        "model.predict_proba(observation)"
      ],
      "metadata": {
        "colab": {
          "base_uri": "https://localhost:8080/"
        },
        "id": "vhKqzEub_KGf",
        "outputId": "b763ad1e-fae2-4f7c-ae0c-3ee1764971ff"
      },
      "execution_count": 5,
      "outputs": [
        {
          "output_type": "execute_result",
          "data": {
            "text/plain": [
              "array([[0., 1., 0.]])"
            ]
          },
          "metadata": {},
          "execution_count": 5
        }
      ]
    },
    {
      "cell_type": "code",
      "source": [
        "# Membuat grafik visualisasi Decision Tree\n",
        "import pydotplus\n",
        "from sklearn import tree\n",
        "dot_data = tree.export_graphviz(decisiontree, out_file = None, \n",
        "                                feature_names = iris['feature_names'], class_names = iris['target_names'])\n",
        "from IPython.display import Image\n",
        "graph = pydotplus.graph_from_dot_data(dot_data)\n",
        "Image(graph.create_png())\n",
        "graph.write_png('iris.png')"
      ],
      "metadata": {
        "id": "_ANBtrYI_NTi",
        "outputId": "960ae0a2-e367-4d7d-a0cb-bd6ebe0a199a",
        "colab": {
          "base_uri": "https://localhost:8080/"
        }
      },
      "execution_count": 6,
      "outputs": [
        {
          "output_type": "execute_result",
          "data": {
            "text/plain": [
              "True"
            ]
          },
          "metadata": {},
          "execution_count": 6
        }
      ]
    }
  ]
}
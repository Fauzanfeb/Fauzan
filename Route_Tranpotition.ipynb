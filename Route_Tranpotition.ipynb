{
  "nbformat": 4,
  "nbformat_minor": 0,
  "metadata": {
    "colab": {
      "provenance": [],
      "include_colab_link": true
    },
    "kernelspec": {
      "name": "python3",
      "display_name": "Python 3"
    },
    "language_info": {
      "name": "python"
    }
  },
  "cells": [
    {
      "cell_type": "markdown",
      "metadata": {
        "id": "view-in-github",
        "colab_type": "text"
      },
      "source": [
        "<a href=\"https://colab.research.google.com/github/Fauzanfeb/Fauzan/blob/main/Route_Tranpotition.ipynb\" target=\"_parent\"><img src=\"https://colab.research.google.com/assets/colab-badge.svg\" alt=\"Open In Colab\"/></a>"
      ]
    },
    {
      "cell_type": "markdown",
      "source": [
        "\n",
        "# **Route Tranpotition**\n",
        "\n",
        "Algoritma Route Tranpotiton merupakan salah satu teknik kriptografi yang termasuk di dalam teknik kriptografi\n",
        "klasik yang menggunakan transposisi dalam melakukan penyandian terhadap plaintext. Route cipher melakukan\n",
        "transposisi dengan cara menuliskan teks asli secara kolom dari atas ke bawah dalam sebuah kisi-kisi imajiner\n",
        "dengan ukuran yang telah disepakati. Teks sandinya dibaca dengan arah (route) sesuai perjanjian, misalnya dibaca\n",
        "secara spiral dengan arah\n",
        "jarum jam.\n",
        "\n",
        "## Authors\n",
        "\n",
        "- [Dennis Adiwinata Irwan Soeroso - A11.2021.13225](https://github.com/DCS16)\n",
        "- [Aslam Thariq Akbar Akrami - A11.2021.13224](https://www.github.com/aslamthrq)\n",
        "- [Fauzan Febryan Tyowarsa - A11.2021.13255](https://www.github.com/Fauzanfeb)"
      ],
      "metadata": {
        "id": "PuwoNgQ0MI7k"
      }
    },
    {
      "cell_type": "code",
      "execution_count": null,
      "metadata": {
        "id": "SJNA7hRnsC1j",
        "colab": {
          "base_uri": "https://localhost:8080/"
        },
        "outputId": "1fd3c4c6-7f74-47a4-90e0-8988cda64992"
      },
      "outputs": [
        {
          "name": "stdout",
          "output_type": "stream",
          "text": [
            "Enter message: aku mahasiswa udinus semarang\n",
            "Enter key [2-28]: 4\n"
          ]
        }
      ],
      "source": [
        "import math\n",
        "\n",
        "message = input(\"Enter message: \")\n",
        "key = int(input(f\"Enter key [2-{len(message) - 1}]: \"))\n"
      ]
    },
    {
      "cell_type": "code",
      "source": [
        "def encrypt_message(key, message):\n",
        "    cipher_text = [\"\"] * key\n",
        "    for col in range(key):\n",
        "        pointer = col\n",
        "        while pointer < len(message):\n",
        "            cipher_text[col] += message[pointer]\n",
        "            pointer += key\n",
        "\n",
        "    print(\"Matrix yang terbentuk : \")\n",
        "    for col in range(key):\n",
        "      print(cipher_text[col])\n",
        "\n",
        "    return \"\".join(cipher_text)\n",
        "\n",
        "print(\" \")\n",
        "if key < 2 or key > 26:\n",
        "    print(\"Key must be between 2 and 26.\")\n",
        "else:\n",
        "    encrypted_text = encrypt_message(key, message)\n",
        "    print(\"Encrypted Message:\", encrypted_text)\n"
      ],
      "metadata": {
        "id": "o3oJdgNC_O0w",
        "colab": {
          "base_uri": "https://localhost:8080/"
        },
        "outputId": "c4604db6-1ebe-455e-9904-49f7c107c772"
      },
      "execution_count": null,
      "outputs": [
        {
          "output_type": "stream",
          "name": "stdout",
          "text": [
            " \n",
            "Matrix yang terbentuk : \n",
            "amsai ag\n",
            "kai nsr\n",
            "uhsuuea\n",
            " awdsmn\n",
            "Encrypted Message: amsai agkai nsruhsuuea awdsmn\n"
          ]
        }
      ]
    },
    {
      "cell_type": "code",
      "source": [
        "def decrypt_message(key, message):\n",
        "    num_cols = math.ceil(len(message) / key)\n",
        "    num_rows = key\n",
        "    num_shaded_boxes = (num_cols * num_rows) - len(message)\n",
        "    plain_text = [\"\"] * num_cols\n",
        "    col = 0\n",
        "    row = 0\n",
        "\n",
        "    for symbol in message:\n",
        "        plain_text[col] += symbol\n",
        "        col += 1\n",
        "\n",
        "        print(plain_text)\n",
        "\n",
        "        if (\n",
        "            (col == num_cols)\n",
        "            or (col == num_cols - 1)\n",
        "            and (row >= num_rows - num_shaded_boxes)\n",
        "        ):\n",
        "            col = 0\n",
        "            row += 1\n",
        "\n",
        "    return \"\".join(plain_text)\n",
        "\n",
        "decrypted_text = decrypt_message(key, encrypted_text)"
      ],
      "metadata": {
        "id": "Hy1AMmKF_QsE",
        "colab": {
          "base_uri": "https://localhost:8080/"
        },
        "outputId": "6db00c75-b86d-4e9f-cfb3-b9b00d3b575a"
      },
      "execution_count": null,
      "outputs": [
        {
          "output_type": "stream",
          "name": "stdout",
          "text": [
            "['a', '', '', '', '', '', '', '']\n",
            "['a', 'm', '', '', '', '', '', '']\n",
            "['a', 'm', 's', '', '', '', '', '']\n",
            "['a', 'm', 's', 'a', '', '', '', '']\n",
            "['a', 'm', 's', 'a', 'i', '', '', '']\n",
            "['a', 'm', 's', 'a', 'i', ' ', '', '']\n",
            "['a', 'm', 's', 'a', 'i', ' ', 'a', '']\n",
            "['a', 'm', 's', 'a', 'i', ' ', 'a', 'g']\n",
            "['ak', 'm', 's', 'a', 'i', ' ', 'a', 'g']\n",
            "['ak', 'ma', 's', 'a', 'i', ' ', 'a', 'g']\n",
            "['ak', 'ma', 'si', 'a', 'i', ' ', 'a', 'g']\n",
            "['ak', 'ma', 'si', 'a ', 'i', ' ', 'a', 'g']\n",
            "['ak', 'ma', 'si', 'a ', 'in', ' ', 'a', 'g']\n",
            "['ak', 'ma', 'si', 'a ', 'in', ' s', 'a', 'g']\n",
            "['ak', 'ma', 'si', 'a ', 'in', ' s', 'ar', 'g']\n",
            "['aku', 'ma', 'si', 'a ', 'in', ' s', 'ar', 'g']\n",
            "['aku', 'mah', 'si', 'a ', 'in', ' s', 'ar', 'g']\n",
            "['aku', 'mah', 'sis', 'a ', 'in', ' s', 'ar', 'g']\n",
            "['aku', 'mah', 'sis', 'a u', 'in', ' s', 'ar', 'g']\n",
            "['aku', 'mah', 'sis', 'a u', 'inu', ' s', 'ar', 'g']\n",
            "['aku', 'mah', 'sis', 'a u', 'inu', ' se', 'ar', 'g']\n",
            "['aku', 'mah', 'sis', 'a u', 'inu', ' se', 'ara', 'g']\n",
            "['aku ', 'mah', 'sis', 'a u', 'inu', ' se', 'ara', 'g']\n",
            "['aku ', 'maha', 'sis', 'a u', 'inu', ' se', 'ara', 'g']\n",
            "['aku ', 'maha', 'sisw', 'a u', 'inu', ' se', 'ara', 'g']\n",
            "['aku ', 'maha', 'sisw', 'a ud', 'inu', ' se', 'ara', 'g']\n",
            "['aku ', 'maha', 'sisw', 'a ud', 'inus', ' se', 'ara', 'g']\n",
            "['aku ', 'maha', 'sisw', 'a ud', 'inus', ' sem', 'ara', 'g']\n",
            "['aku ', 'maha', 'sisw', 'a ud', 'inus', ' sem', 'aran', 'g']\n"
          ]
        }
      ]
    },
    {
      "cell_type": "code",
      "source": [
        "print(f\"Encrypted message: {encrypted_text}\")\n",
        "print(f\"Decrypted message: {decrypted_text}\")"
      ],
      "metadata": {
        "id": "nZSKN5Ge_SP-",
        "colab": {
          "base_uri": "https://localhost:8080/"
        },
        "outputId": "3c552aee-d681-4f3d-9d1e-d476e8af8b16"
      },
      "execution_count": null,
      "outputs": [
        {
          "output_type": "stream",
          "name": "stdout",
          "text": [
            "Encrypted message: amsai agkai nsruhsuuea awdsmn\n",
            "Decrypted message: aku mahasiswa udinus semarang\n"
          ]
        }
      ]
    }
  ]
}